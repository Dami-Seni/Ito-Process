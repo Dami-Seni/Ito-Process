{
 "cells": [
  {
   "cell_type": "code",
   "execution_count": 3,
   "metadata": {},
   "outputs": [],
   "source": [
    "#Import the necessary Libraries\n",
    "import numpy as np\n",
    "import pandas as pd \n",
    "import matplotlib.pyplot as plt\n",
    "%matplotlib inline"
   ]
  },
  {
   "cell_type": "code",
   "execution_count": 4,
   "metadata": {
    "scrolled": true
   },
   "outputs": [],
   "source": [
    "#Reading the downloaded stock csv file into a dataframe\n",
    "Daily = pd.read_csv(\"AMZN - 1 year.csv\",  parse_dates=[\"Date\"], index_col=\"Date\")\n",
    "Daily_5yr = pd.read_csv(\"AMZN - 5 years.csv\",  parse_dates=[\"Date\"], index_col=\"Date\")\n",
    "Weekly = pd.read_csv(\"AMZN - weekly.csv\",  parse_dates=[\"Date\"], index_col=\"Date\")\n",
    "Monthly = pd.read_csv(\"AMZN - monthly.csv\",  parse_dates=[\"Date\"], index_col=\"Date\")"
   ]
  },
  {
   "cell_type": "code",
   "execution_count": 5,
   "metadata": {
    "scrolled": true
   },
   "outputs": [
    {
     "data": {
      "text/html": [
       "<div>\n",
       "<style scoped>\n",
       "    .dataframe tbody tr th:only-of-type {\n",
       "        vertical-align: middle;\n",
       "    }\n",
       "\n",
       "    .dataframe tbody tr th {\n",
       "        vertical-align: top;\n",
       "    }\n",
       "\n",
       "    .dataframe thead th {\n",
       "        text-align: right;\n",
       "    }\n",
       "</style>\n",
       "<table border=\"1\" class=\"dataframe\">\n",
       "  <thead>\n",
       "    <tr style=\"text-align: right;\">\n",
       "      <th></th>\n",
       "      <th>Open</th>\n",
       "      <th>High</th>\n",
       "      <th>Low</th>\n",
       "      <th>Close</th>\n",
       "      <th>Adj Close</th>\n",
       "      <th>Volume</th>\n",
       "    </tr>\n",
       "    <tr>\n",
       "      <th>Date</th>\n",
       "      <th></th>\n",
       "      <th></th>\n",
       "      <th></th>\n",
       "      <th></th>\n",
       "      <th></th>\n",
       "      <th></th>\n",
       "    </tr>\n",
       "  </thead>\n",
       "  <tbody>\n",
       "    <tr>\n",
       "      <th>2021-06-21</th>\n",
       "      <td>173.820999</td>\n",
       "      <td>174.100006</td>\n",
       "      <td>171.699997</td>\n",
       "      <td>172.697998</td>\n",
       "      <td>172.697998</td>\n",
       "      <td>65542000</td>\n",
       "    </tr>\n",
       "    <tr>\n",
       "      <th>2021-06-22</th>\n",
       "      <td>172.903000</td>\n",
       "      <td>176.188995</td>\n",
       "      <td>172.804504</td>\n",
       "      <td>175.272003</td>\n",
       "      <td>175.272003</td>\n",
       "      <td>66902000</td>\n",
       "    </tr>\n",
       "    <tr>\n",
       "      <th>2021-06-23</th>\n",
       "      <td>175.250000</td>\n",
       "      <td>176.050003</td>\n",
       "      <td>174.160004</td>\n",
       "      <td>175.190994</td>\n",
       "      <td>175.190994</td>\n",
       "      <td>56266000</td>\n",
       "    </tr>\n",
       "    <tr>\n",
       "      <th>2021-06-24</th>\n",
       "      <td>175.382004</td>\n",
       "      <td>176.242996</td>\n",
       "      <td>171.542496</td>\n",
       "      <td>172.453995</td>\n",
       "      <td>172.453995</td>\n",
       "      <td>76640000</td>\n",
       "    </tr>\n",
       "    <tr>\n",
       "      <th>2021-06-25</th>\n",
       "      <td>173.199997</td>\n",
       "      <td>173.240997</td>\n",
       "      <td>169.709000</td>\n",
       "      <td>170.072998</td>\n",
       "      <td>170.072998</td>\n",
       "      <td>78820000</td>\n",
       "    </tr>\n",
       "  </tbody>\n",
       "</table>\n",
       "</div>"
      ],
      "text/plain": [
       "                  Open        High         Low       Close   Adj Close  \\\n",
       "Date                                                                     \n",
       "2021-06-21  173.820999  174.100006  171.699997  172.697998  172.697998   \n",
       "2021-06-22  172.903000  176.188995  172.804504  175.272003  175.272003   \n",
       "2021-06-23  175.250000  176.050003  174.160004  175.190994  175.190994   \n",
       "2021-06-24  175.382004  176.242996  171.542496  172.453995  172.453995   \n",
       "2021-06-25  173.199997  173.240997  169.709000  170.072998  170.072998   \n",
       "\n",
       "              Volume  \n",
       "Date                  \n",
       "2021-06-21  65542000  \n",
       "2021-06-22  66902000  \n",
       "2021-06-23  56266000  \n",
       "2021-06-24  76640000  \n",
       "2021-06-25  78820000  "
      ]
     },
     "execution_count": 5,
     "metadata": {},
     "output_type": "execute_result"
    }
   ],
   "source": [
    "#printing the first 5 rows of the dataset\n",
    "#It is useful for quickly checking if your object has the right type of data in it\n",
    "Daily.head()"
   ]
  },
  {
   "cell_type": "code",
   "execution_count": 6,
   "metadata": {},
   "outputs": [
    {
     "data": {
      "text/html": [
       "<div>\n",
       "<style scoped>\n",
       "    .dataframe tbody tr th:only-of-type {\n",
       "        vertical-align: middle;\n",
       "    }\n",
       "\n",
       "    .dataframe tbody tr th {\n",
       "        vertical-align: top;\n",
       "    }\n",
       "\n",
       "    .dataframe thead th {\n",
       "        text-align: right;\n",
       "    }\n",
       "</style>\n",
       "<table border=\"1\" class=\"dataframe\">\n",
       "  <thead>\n",
       "    <tr style=\"text-align: right;\">\n",
       "      <th></th>\n",
       "      <th>Open</th>\n",
       "      <th>High</th>\n",
       "      <th>Low</th>\n",
       "      <th>Close</th>\n",
       "      <th>Adj Close</th>\n",
       "      <th>Volume</th>\n",
       "    </tr>\n",
       "    <tr>\n",
       "      <th>Date</th>\n",
       "      <th></th>\n",
       "      <th></th>\n",
       "      <th></th>\n",
       "      <th></th>\n",
       "      <th></th>\n",
       "      <th></th>\n",
       "    </tr>\n",
       "  </thead>\n",
       "  <tbody>\n",
       "    <tr>\n",
       "      <th>2017-06-20</th>\n",
       "      <td>49.900002</td>\n",
       "      <td>50.243999</td>\n",
       "      <td>49.601002</td>\n",
       "      <td>49.629501</td>\n",
       "      <td>49.629501</td>\n",
       "      <td>81536000</td>\n",
       "    </tr>\n",
       "    <tr>\n",
       "      <th>2017-06-21</th>\n",
       "      <td>49.935001</td>\n",
       "      <td>50.136002</td>\n",
       "      <td>49.632500</td>\n",
       "      <td>50.111500</td>\n",
       "      <td>50.111500</td>\n",
       "      <td>58450000</td>\n",
       "    </tr>\n",
       "    <tr>\n",
       "      <th>2017-06-22</th>\n",
       "      <td>50.111500</td>\n",
       "      <td>50.348000</td>\n",
       "      <td>49.860001</td>\n",
       "      <td>50.064999</td>\n",
       "      <td>50.064999</td>\n",
       "      <td>45068000</td>\n",
       "    </tr>\n",
       "    <tr>\n",
       "      <th>2017-06-23</th>\n",
       "      <td>50.126999</td>\n",
       "      <td>50.230999</td>\n",
       "      <td>49.901001</td>\n",
       "      <td>50.187000</td>\n",
       "      <td>50.187000</td>\n",
       "      <td>57582000</td>\n",
       "    </tr>\n",
       "    <tr>\n",
       "      <th>2017-06-26</th>\n",
       "      <td>50.424999</td>\n",
       "      <td>50.490002</td>\n",
       "      <td>49.599998</td>\n",
       "      <td>49.699001</td>\n",
       "      <td>49.699001</td>\n",
       "      <td>67724000</td>\n",
       "    </tr>\n",
       "  </tbody>\n",
       "</table>\n",
       "</div>"
      ],
      "text/plain": [
       "                 Open       High        Low      Close  Adj Close    Volume\n",
       "Date                                                                       \n",
       "2017-06-20  49.900002  50.243999  49.601002  49.629501  49.629501  81536000\n",
       "2017-06-21  49.935001  50.136002  49.632500  50.111500  50.111500  58450000\n",
       "2017-06-22  50.111500  50.348000  49.860001  50.064999  50.064999  45068000\n",
       "2017-06-23  50.126999  50.230999  49.901001  50.187000  50.187000  57582000\n",
       "2017-06-26  50.424999  50.490002  49.599998  49.699001  49.699001  67724000"
      ]
     },
     "execution_count": 6,
     "metadata": {},
     "output_type": "execute_result"
    }
   ],
   "source": [
    "#printing the first 5 rows of the dataset\n",
    "Daily_5yr.head()"
   ]
  },
  {
   "cell_type": "code",
   "execution_count": 7,
   "metadata": {},
   "outputs": [
    {
     "data": {
      "text/html": [
       "<div>\n",
       "<style scoped>\n",
       "    .dataframe tbody tr th:only-of-type {\n",
       "        vertical-align: middle;\n",
       "    }\n",
       "\n",
       "    .dataframe tbody tr th {\n",
       "        vertical-align: top;\n",
       "    }\n",
       "\n",
       "    .dataframe thead th {\n",
       "        text-align: right;\n",
       "    }\n",
       "</style>\n",
       "<table border=\"1\" class=\"dataframe\">\n",
       "  <thead>\n",
       "    <tr style=\"text-align: right;\">\n",
       "      <th></th>\n",
       "      <th>Open</th>\n",
       "      <th>High</th>\n",
       "      <th>Low</th>\n",
       "      <th>Close</th>\n",
       "      <th>Adj Close</th>\n",
       "      <th>Volume</th>\n",
       "    </tr>\n",
       "    <tr>\n",
       "      <th>Date</th>\n",
       "      <th></th>\n",
       "      <th></th>\n",
       "      <th></th>\n",
       "      <th></th>\n",
       "      <th></th>\n",
       "      <th></th>\n",
       "    </tr>\n",
       "  </thead>\n",
       "  <tbody>\n",
       "    <tr>\n",
       "      <th>2007-06-18</th>\n",
       "      <td>3.5775</td>\n",
       "      <td>3.5830</td>\n",
       "      <td>3.4210</td>\n",
       "      <td>3.4430</td>\n",
       "      <td>3.4430</td>\n",
       "      <td>740718000</td>\n",
       "    </tr>\n",
       "    <tr>\n",
       "      <th>2007-06-25</th>\n",
       "      <td>3.4675</td>\n",
       "      <td>3.5115</td>\n",
       "      <td>3.3355</td>\n",
       "      <td>3.4205</td>\n",
       "      <td>3.4205</td>\n",
       "      <td>843660000</td>\n",
       "    </tr>\n",
       "    <tr>\n",
       "      <th>2007-07-02</th>\n",
       "      <td>3.4405</td>\n",
       "      <td>3.5025</td>\n",
       "      <td>3.4005</td>\n",
       "      <td>3.4485</td>\n",
       "      <td>3.4485</td>\n",
       "      <td>324656000</td>\n",
       "    </tr>\n",
       "    <tr>\n",
       "      <th>2007-07-09</th>\n",
       "      <td>3.4690</td>\n",
       "      <td>3.7675</td>\n",
       "      <td>3.4510</td>\n",
       "      <td>3.7550</td>\n",
       "      <td>3.7550</td>\n",
       "      <td>1084990000</td>\n",
       "    </tr>\n",
       "    <tr>\n",
       "      <th>2007-07-16</th>\n",
       "      <td>3.7365</td>\n",
       "      <td>3.7420</td>\n",
       "      <td>3.5250</td>\n",
       "      <td>3.5815</td>\n",
       "      <td>3.5815</td>\n",
       "      <td>702264000</td>\n",
       "    </tr>\n",
       "  </tbody>\n",
       "</table>\n",
       "</div>"
      ],
      "text/plain": [
       "              Open    High     Low   Close  Adj Close      Volume\n",
       "Date                                                             \n",
       "2007-06-18  3.5775  3.5830  3.4210  3.4430     3.4430   740718000\n",
       "2007-06-25  3.4675  3.5115  3.3355  3.4205     3.4205   843660000\n",
       "2007-07-02  3.4405  3.5025  3.4005  3.4485     3.4485   324656000\n",
       "2007-07-09  3.4690  3.7675  3.4510  3.7550     3.7550  1084990000\n",
       "2007-07-16  3.7365  3.7420  3.5250  3.5815     3.5815   702264000"
      ]
     },
     "execution_count": 7,
     "metadata": {},
     "output_type": "execute_result"
    }
   ],
   "source": [
    "#printing the first 5 rows of the dataset\n",
    "Weekly.head()"
   ]
  },
  {
   "cell_type": "code",
   "execution_count": 8,
   "metadata": {},
   "outputs": [
    {
     "data": {
      "text/html": [
       "<div>\n",
       "<style scoped>\n",
       "    .dataframe tbody tr th:only-of-type {\n",
       "        vertical-align: middle;\n",
       "    }\n",
       "\n",
       "    .dataframe tbody tr th {\n",
       "        vertical-align: top;\n",
       "    }\n",
       "\n",
       "    .dataframe thead th {\n",
       "        text-align: right;\n",
       "    }\n",
       "</style>\n",
       "<table border=\"1\" class=\"dataframe\">\n",
       "  <thead>\n",
       "    <tr style=\"text-align: right;\">\n",
       "      <th></th>\n",
       "      <th>Open</th>\n",
       "      <th>High</th>\n",
       "      <th>Low</th>\n",
       "      <th>Close</th>\n",
       "      <th>Adj Close</th>\n",
       "      <th>Volume</th>\n",
       "    </tr>\n",
       "    <tr>\n",
       "      <th>Date</th>\n",
       "      <th></th>\n",
       "      <th></th>\n",
       "      <th></th>\n",
       "      <th></th>\n",
       "      <th></th>\n",
       "      <th></th>\n",
       "    </tr>\n",
       "  </thead>\n",
       "  <tbody>\n",
       "    <tr>\n",
       "      <th>1997-06-01</th>\n",
       "      <td>0.075521</td>\n",
       "      <td>0.085417</td>\n",
       "      <td>0.068750</td>\n",
       "      <td>0.077083</td>\n",
       "      <td>0.077083</td>\n",
       "      <td>1063272000</td>\n",
       "    </tr>\n",
       "    <tr>\n",
       "      <th>1997-07-01</th>\n",
       "      <td>0.077083</td>\n",
       "      <td>0.128646</td>\n",
       "      <td>0.075521</td>\n",
       "      <td>0.119792</td>\n",
       "      <td>0.119792</td>\n",
       "      <td>2172288000</td>\n",
       "    </tr>\n",
       "    <tr>\n",
       "      <th>1997-08-01</th>\n",
       "      <td>0.117188</td>\n",
       "      <td>0.120833</td>\n",
       "      <td>0.096875</td>\n",
       "      <td>0.116927</td>\n",
       "      <td>0.116927</td>\n",
       "      <td>638136000</td>\n",
       "    </tr>\n",
       "    <tr>\n",
       "      <th>1997-09-01</th>\n",
       "      <td>0.117188</td>\n",
       "      <td>0.240625</td>\n",
       "      <td>0.115625</td>\n",
       "      <td>0.216927</td>\n",
       "      <td>0.216927</td>\n",
       "      <td>2157240000</td>\n",
       "    </tr>\n",
       "    <tr>\n",
       "      <th>1997-10-01</th>\n",
       "      <td>0.221875</td>\n",
       "      <td>0.275000</td>\n",
       "      <td>0.176042</td>\n",
       "      <td>0.254167</td>\n",
       "      <td>0.254167</td>\n",
       "      <td>2103744000</td>\n",
       "    </tr>\n",
       "  </tbody>\n",
       "</table>\n",
       "</div>"
      ],
      "text/plain": [
       "                Open      High       Low     Close  Adj Close      Volume\n",
       "Date                                                                     \n",
       "1997-06-01  0.075521  0.085417  0.068750  0.077083   0.077083  1063272000\n",
       "1997-07-01  0.077083  0.128646  0.075521  0.119792   0.119792  2172288000\n",
       "1997-08-01  0.117188  0.120833  0.096875  0.116927   0.116927   638136000\n",
       "1997-09-01  0.117188  0.240625  0.115625  0.216927   0.216927  2157240000\n",
       "1997-10-01  0.221875  0.275000  0.176042  0.254167   0.254167  2103744000"
      ]
     },
     "execution_count": 8,
     "metadata": {},
     "output_type": "execute_result"
    }
   ],
   "source": [
    "#printing the first 5 rows of the dataset\n",
    "Monthly.head()"
   ]
  },
  {
   "cell_type": "code",
   "execution_count": 9,
   "metadata": {},
   "outputs": [],
   "source": [
    "#calculating the daily returns, and storing it into a new column within original dataframe\n",
    "Daily['Return'] = Daily['Close']/Daily['Close'].shift(1)-1"
   ]
  },
  {
   "cell_type": "code",
   "execution_count": 10,
   "metadata": {},
   "outputs": [],
   "source": [
    "#calculating the daily returns, and storing it into a new column within original dataframe\n",
    "Daily_5yr['Return'] = Daily_5yr['Close']/Daily_5yr['Close'].shift(1)-1"
   ]
  },
  {
   "cell_type": "code",
   "execution_count": 11,
   "metadata": {},
   "outputs": [],
   "source": [
    "#calculating the daily returns, and storing it into a new column within original dataframe\n",
    "Weekly['Return'] = Weekly['Close']/Weekly['Close'].shift(1)-1"
   ]
  },
  {
   "cell_type": "code",
   "execution_count": 12,
   "metadata": {},
   "outputs": [],
   "source": [
    "#calculating the daily returns, and storing it into a new column within original dataframe\n",
    "Monthly['Return'] = Monthly['Close']/Monthly['Close'].shift(1)-1"
   ]
  },
  {
   "cell_type": "code",
   "execution_count": 13,
   "metadata": {},
   "outputs": [],
   "source": [
    "#creating a column in the dataframe called Log returns that contains the daily log return of the Close price.\n",
    "Daily['Return_log'] = np.log(Daily['Close']/Daily['Close'].shift(1))"
   ]
  },
  {
   "cell_type": "code",
   "execution_count": 14,
   "metadata": {},
   "outputs": [],
   "source": [
    "#creating a column in the dataframe called Log returns that contains the daily log return of the Close price.\n",
    "Daily_5yr['Return_log'] = np.log(Daily_5yr['Close']/Daily_5yr['Close'].shift(1))"
   ]
  },
  {
   "cell_type": "code",
   "execution_count": 15,
   "metadata": {},
   "outputs": [],
   "source": [
    "#creating a column in the dataframe called Log returns that contains the daily log return of the Close price.\n",
    "Weekly['Return_log'] = np.log(Weekly['Close']/Weekly['Close'].shift(1))"
   ]
  },
  {
   "cell_type": "code",
   "execution_count": 16,
   "metadata": {},
   "outputs": [],
   "source": [
    "#creating a column in the dataframe called Log returns that contains the daily log return of the Close price.\n",
    "Monthly['Return_log'] = np.log(Monthly['Close']/Monthly['Close'].shift(1))"
   ]
  },
  {
   "cell_type": "code",
   "execution_count": 17,
   "metadata": {},
   "outputs": [
    {
     "data": {
      "text/html": [
       "<div>\n",
       "<style scoped>\n",
       "    .dataframe tbody tr th:only-of-type {\n",
       "        vertical-align: middle;\n",
       "    }\n",
       "\n",
       "    .dataframe tbody tr th {\n",
       "        vertical-align: top;\n",
       "    }\n",
       "\n",
       "    .dataframe thead th {\n",
       "        text-align: right;\n",
       "    }\n",
       "</style>\n",
       "<table border=\"1\" class=\"dataframe\">\n",
       "  <thead>\n",
       "    <tr style=\"text-align: right;\">\n",
       "      <th></th>\n",
       "      <th>Open</th>\n",
       "      <th>High</th>\n",
       "      <th>Low</th>\n",
       "      <th>Close</th>\n",
       "      <th>Adj Close</th>\n",
       "      <th>Volume</th>\n",
       "      <th>Return</th>\n",
       "      <th>Return_log</th>\n",
       "    </tr>\n",
       "    <tr>\n",
       "      <th>Date</th>\n",
       "      <th></th>\n",
       "      <th></th>\n",
       "      <th></th>\n",
       "      <th></th>\n",
       "      <th></th>\n",
       "      <th></th>\n",
       "      <th></th>\n",
       "      <th></th>\n",
       "    </tr>\n",
       "  </thead>\n",
       "  <tbody>\n",
       "    <tr>\n",
       "      <th>2021-06-21</th>\n",
       "      <td>173.820999</td>\n",
       "      <td>174.100006</td>\n",
       "      <td>171.699997</td>\n",
       "      <td>172.697998</td>\n",
       "      <td>172.697998</td>\n",
       "      <td>65542000</td>\n",
       "      <td>NaN</td>\n",
       "      <td>NaN</td>\n",
       "    </tr>\n",
       "    <tr>\n",
       "      <th>2021-06-22</th>\n",
       "      <td>172.903000</td>\n",
       "      <td>176.188995</td>\n",
       "      <td>172.804504</td>\n",
       "      <td>175.272003</td>\n",
       "      <td>175.272003</td>\n",
       "      <td>66902000</td>\n",
       "      <td>0.014905</td>\n",
       "      <td>0.014795</td>\n",
       "    </tr>\n",
       "    <tr>\n",
       "      <th>2021-06-23</th>\n",
       "      <td>175.250000</td>\n",
       "      <td>176.050003</td>\n",
       "      <td>174.160004</td>\n",
       "      <td>175.190994</td>\n",
       "      <td>175.190994</td>\n",
       "      <td>56266000</td>\n",
       "      <td>-0.000462</td>\n",
       "      <td>-0.000462</td>\n",
       "    </tr>\n",
       "    <tr>\n",
       "      <th>2021-06-24</th>\n",
       "      <td>175.382004</td>\n",
       "      <td>176.242996</td>\n",
       "      <td>171.542496</td>\n",
       "      <td>172.453995</td>\n",
       "      <td>172.453995</td>\n",
       "      <td>76640000</td>\n",
       "      <td>-0.015623</td>\n",
       "      <td>-0.015746</td>\n",
       "    </tr>\n",
       "    <tr>\n",
       "      <th>2021-06-25</th>\n",
       "      <td>173.199997</td>\n",
       "      <td>173.240997</td>\n",
       "      <td>169.709000</td>\n",
       "      <td>170.072998</td>\n",
       "      <td>170.072998</td>\n",
       "      <td>78820000</td>\n",
       "      <td>-0.013807</td>\n",
       "      <td>-0.013903</td>\n",
       "    </tr>\n",
       "  </tbody>\n",
       "</table>\n",
       "</div>"
      ],
      "text/plain": [
       "                  Open        High         Low       Close   Adj Close  \\\n",
       "Date                                                                     \n",
       "2021-06-21  173.820999  174.100006  171.699997  172.697998  172.697998   \n",
       "2021-06-22  172.903000  176.188995  172.804504  175.272003  175.272003   \n",
       "2021-06-23  175.250000  176.050003  174.160004  175.190994  175.190994   \n",
       "2021-06-24  175.382004  176.242996  171.542496  172.453995  172.453995   \n",
       "2021-06-25  173.199997  173.240997  169.709000  170.072998  170.072998   \n",
       "\n",
       "              Volume    Return  Return_log  \n",
       "Date                                        \n",
       "2021-06-21  65542000       NaN         NaN  \n",
       "2021-06-22  66902000  0.014905    0.014795  \n",
       "2021-06-23  56266000 -0.000462   -0.000462  \n",
       "2021-06-24  76640000 -0.015623   -0.015746  \n",
       "2021-06-25  78820000 -0.013807   -0.013903  "
      ]
     },
     "execution_count": 17,
     "metadata": {},
     "output_type": "execute_result"
    }
   ],
   "source": [
    "#printing the first 5 rows of the updated dataframe\n",
    "Daily.head()"
   ]
  },
  {
   "cell_type": "code",
   "execution_count": 18,
   "metadata": {},
   "outputs": [
    {
     "data": {
      "text/html": [
       "<div>\n",
       "<style scoped>\n",
       "    .dataframe tbody tr th:only-of-type {\n",
       "        vertical-align: middle;\n",
       "    }\n",
       "\n",
       "    .dataframe tbody tr th {\n",
       "        vertical-align: top;\n",
       "    }\n",
       "\n",
       "    .dataframe thead th {\n",
       "        text-align: right;\n",
       "    }\n",
       "</style>\n",
       "<table border=\"1\" class=\"dataframe\">\n",
       "  <thead>\n",
       "    <tr style=\"text-align: right;\">\n",
       "      <th></th>\n",
       "      <th>Open</th>\n",
       "      <th>High</th>\n",
       "      <th>Low</th>\n",
       "      <th>Close</th>\n",
       "      <th>Adj Close</th>\n",
       "      <th>Volume</th>\n",
       "      <th>Return</th>\n",
       "      <th>Return_log</th>\n",
       "    </tr>\n",
       "    <tr>\n",
       "      <th>Date</th>\n",
       "      <th></th>\n",
       "      <th></th>\n",
       "      <th></th>\n",
       "      <th></th>\n",
       "      <th></th>\n",
       "      <th></th>\n",
       "      <th></th>\n",
       "      <th></th>\n",
       "    </tr>\n",
       "  </thead>\n",
       "  <tbody>\n",
       "    <tr>\n",
       "      <th>2017-06-20</th>\n",
       "      <td>49.900002</td>\n",
       "      <td>50.243999</td>\n",
       "      <td>49.601002</td>\n",
       "      <td>49.629501</td>\n",
       "      <td>49.629501</td>\n",
       "      <td>81536000</td>\n",
       "      <td>NaN</td>\n",
       "      <td>NaN</td>\n",
       "    </tr>\n",
       "    <tr>\n",
       "      <th>2017-06-21</th>\n",
       "      <td>49.935001</td>\n",
       "      <td>50.136002</td>\n",
       "      <td>49.632500</td>\n",
       "      <td>50.111500</td>\n",
       "      <td>50.111500</td>\n",
       "      <td>58450000</td>\n",
       "      <td>0.009712</td>\n",
       "      <td>0.009665</td>\n",
       "    </tr>\n",
       "    <tr>\n",
       "      <th>2017-06-22</th>\n",
       "      <td>50.111500</td>\n",
       "      <td>50.348000</td>\n",
       "      <td>49.860001</td>\n",
       "      <td>50.064999</td>\n",
       "      <td>50.064999</td>\n",
       "      <td>45068000</td>\n",
       "      <td>-0.000928</td>\n",
       "      <td>-0.000928</td>\n",
       "    </tr>\n",
       "    <tr>\n",
       "      <th>2017-06-23</th>\n",
       "      <td>50.126999</td>\n",
       "      <td>50.230999</td>\n",
       "      <td>49.901001</td>\n",
       "      <td>50.187000</td>\n",
       "      <td>50.187000</td>\n",
       "      <td>57582000</td>\n",
       "      <td>0.002437</td>\n",
       "      <td>0.002434</td>\n",
       "    </tr>\n",
       "    <tr>\n",
       "      <th>2017-06-26</th>\n",
       "      <td>50.424999</td>\n",
       "      <td>50.490002</td>\n",
       "      <td>49.599998</td>\n",
       "      <td>49.699001</td>\n",
       "      <td>49.699001</td>\n",
       "      <td>67724000</td>\n",
       "      <td>-0.009724</td>\n",
       "      <td>-0.009771</td>\n",
       "    </tr>\n",
       "  </tbody>\n",
       "</table>\n",
       "</div>"
      ],
      "text/plain": [
       "                 Open       High        Low      Close  Adj Close    Volume  \\\n",
       "Date                                                                          \n",
       "2017-06-20  49.900002  50.243999  49.601002  49.629501  49.629501  81536000   \n",
       "2017-06-21  49.935001  50.136002  49.632500  50.111500  50.111500  58450000   \n",
       "2017-06-22  50.111500  50.348000  49.860001  50.064999  50.064999  45068000   \n",
       "2017-06-23  50.126999  50.230999  49.901001  50.187000  50.187000  57582000   \n",
       "2017-06-26  50.424999  50.490002  49.599998  49.699001  49.699001  67724000   \n",
       "\n",
       "              Return  Return_log  \n",
       "Date                              \n",
       "2017-06-20       NaN         NaN  \n",
       "2017-06-21  0.009712    0.009665  \n",
       "2017-06-22 -0.000928   -0.000928  \n",
       "2017-06-23  0.002437    0.002434  \n",
       "2017-06-26 -0.009724   -0.009771  "
      ]
     },
     "execution_count": 18,
     "metadata": {},
     "output_type": "execute_result"
    }
   ],
   "source": [
    "#printing the first 5 rows of the updated dataframe\n",
    "Daily_5yr.head()"
   ]
  },
  {
   "cell_type": "code",
   "execution_count": 19,
   "metadata": {},
   "outputs": [
    {
     "data": {
      "text/html": [
       "<div>\n",
       "<style scoped>\n",
       "    .dataframe tbody tr th:only-of-type {\n",
       "        vertical-align: middle;\n",
       "    }\n",
       "\n",
       "    .dataframe tbody tr th {\n",
       "        vertical-align: top;\n",
       "    }\n",
       "\n",
       "    .dataframe thead th {\n",
       "        text-align: right;\n",
       "    }\n",
       "</style>\n",
       "<table border=\"1\" class=\"dataframe\">\n",
       "  <thead>\n",
       "    <tr style=\"text-align: right;\">\n",
       "      <th></th>\n",
       "      <th>Open</th>\n",
       "      <th>High</th>\n",
       "      <th>Low</th>\n",
       "      <th>Close</th>\n",
       "      <th>Adj Close</th>\n",
       "      <th>Volume</th>\n",
       "      <th>Return</th>\n",
       "      <th>Return_log</th>\n",
       "    </tr>\n",
       "    <tr>\n",
       "      <th>Date</th>\n",
       "      <th></th>\n",
       "      <th></th>\n",
       "      <th></th>\n",
       "      <th></th>\n",
       "      <th></th>\n",
       "      <th></th>\n",
       "      <th></th>\n",
       "      <th></th>\n",
       "    </tr>\n",
       "  </thead>\n",
       "  <tbody>\n",
       "    <tr>\n",
       "      <th>2007-06-18</th>\n",
       "      <td>3.5775</td>\n",
       "      <td>3.5830</td>\n",
       "      <td>3.4210</td>\n",
       "      <td>3.4430</td>\n",
       "      <td>3.4430</td>\n",
       "      <td>740718000</td>\n",
       "      <td>NaN</td>\n",
       "      <td>NaN</td>\n",
       "    </tr>\n",
       "    <tr>\n",
       "      <th>2007-06-25</th>\n",
       "      <td>3.4675</td>\n",
       "      <td>3.5115</td>\n",
       "      <td>3.3355</td>\n",
       "      <td>3.4205</td>\n",
       "      <td>3.4205</td>\n",
       "      <td>843660000</td>\n",
       "      <td>-0.006535</td>\n",
       "      <td>-0.006556</td>\n",
       "    </tr>\n",
       "    <tr>\n",
       "      <th>2007-07-02</th>\n",
       "      <td>3.4405</td>\n",
       "      <td>3.5025</td>\n",
       "      <td>3.4005</td>\n",
       "      <td>3.4485</td>\n",
       "      <td>3.4485</td>\n",
       "      <td>324656000</td>\n",
       "      <td>0.008186</td>\n",
       "      <td>0.008153</td>\n",
       "    </tr>\n",
       "    <tr>\n",
       "      <th>2007-07-09</th>\n",
       "      <td>3.4690</td>\n",
       "      <td>3.7675</td>\n",
       "      <td>3.4510</td>\n",
       "      <td>3.7550</td>\n",
       "      <td>3.7550</td>\n",
       "      <td>1084990000</td>\n",
       "      <td>0.088879</td>\n",
       "      <td>0.085149</td>\n",
       "    </tr>\n",
       "    <tr>\n",
       "      <th>2007-07-16</th>\n",
       "      <td>3.7365</td>\n",
       "      <td>3.7420</td>\n",
       "      <td>3.5250</td>\n",
       "      <td>3.5815</td>\n",
       "      <td>3.5815</td>\n",
       "      <td>702264000</td>\n",
       "      <td>-0.046205</td>\n",
       "      <td>-0.047307</td>\n",
       "    </tr>\n",
       "  </tbody>\n",
       "</table>\n",
       "</div>"
      ],
      "text/plain": [
       "              Open    High     Low   Close  Adj Close      Volume    Return  \\\n",
       "Date                                                                          \n",
       "2007-06-18  3.5775  3.5830  3.4210  3.4430     3.4430   740718000       NaN   \n",
       "2007-06-25  3.4675  3.5115  3.3355  3.4205     3.4205   843660000 -0.006535   \n",
       "2007-07-02  3.4405  3.5025  3.4005  3.4485     3.4485   324656000  0.008186   \n",
       "2007-07-09  3.4690  3.7675  3.4510  3.7550     3.7550  1084990000  0.088879   \n",
       "2007-07-16  3.7365  3.7420  3.5250  3.5815     3.5815   702264000 -0.046205   \n",
       "\n",
       "            Return_log  \n",
       "Date                    \n",
       "2007-06-18         NaN  \n",
       "2007-06-25   -0.006556  \n",
       "2007-07-02    0.008153  \n",
       "2007-07-09    0.085149  \n",
       "2007-07-16   -0.047307  "
      ]
     },
     "execution_count": 19,
     "metadata": {},
     "output_type": "execute_result"
    }
   ],
   "source": [
    "#printing the first 5 rows of the updated dataframe\n",
    "Weekly.head()"
   ]
  },
  {
   "cell_type": "code",
   "execution_count": 20,
   "metadata": {},
   "outputs": [
    {
     "data": {
      "text/html": [
       "<div>\n",
       "<style scoped>\n",
       "    .dataframe tbody tr th:only-of-type {\n",
       "        vertical-align: middle;\n",
       "    }\n",
       "\n",
       "    .dataframe tbody tr th {\n",
       "        vertical-align: top;\n",
       "    }\n",
       "\n",
       "    .dataframe thead th {\n",
       "        text-align: right;\n",
       "    }\n",
       "</style>\n",
       "<table border=\"1\" class=\"dataframe\">\n",
       "  <thead>\n",
       "    <tr style=\"text-align: right;\">\n",
       "      <th></th>\n",
       "      <th>Open</th>\n",
       "      <th>High</th>\n",
       "      <th>Low</th>\n",
       "      <th>Close</th>\n",
       "      <th>Adj Close</th>\n",
       "      <th>Volume</th>\n",
       "      <th>Return</th>\n",
       "      <th>Return_log</th>\n",
       "    </tr>\n",
       "    <tr>\n",
       "      <th>Date</th>\n",
       "      <th></th>\n",
       "      <th></th>\n",
       "      <th></th>\n",
       "      <th></th>\n",
       "      <th></th>\n",
       "      <th></th>\n",
       "      <th></th>\n",
       "      <th></th>\n",
       "    </tr>\n",
       "  </thead>\n",
       "  <tbody>\n",
       "    <tr>\n",
       "      <th>1997-06-01</th>\n",
       "      <td>0.075521</td>\n",
       "      <td>0.085417</td>\n",
       "      <td>0.068750</td>\n",
       "      <td>0.077083</td>\n",
       "      <td>0.077083</td>\n",
       "      <td>1063272000</td>\n",
       "      <td>NaN</td>\n",
       "      <td>NaN</td>\n",
       "    </tr>\n",
       "    <tr>\n",
       "      <th>1997-07-01</th>\n",
       "      <td>0.077083</td>\n",
       "      <td>0.128646</td>\n",
       "      <td>0.075521</td>\n",
       "      <td>0.119792</td>\n",
       "      <td>0.119792</td>\n",
       "      <td>2172288000</td>\n",
       "      <td>0.554065</td>\n",
       "      <td>0.440874</td>\n",
       "    </tr>\n",
       "    <tr>\n",
       "      <th>1997-08-01</th>\n",
       "      <td>0.117188</td>\n",
       "      <td>0.120833</td>\n",
       "      <td>0.096875</td>\n",
       "      <td>0.116927</td>\n",
       "      <td>0.116927</td>\n",
       "      <td>638136000</td>\n",
       "      <td>-0.023916</td>\n",
       "      <td>-0.024207</td>\n",
       "    </tr>\n",
       "    <tr>\n",
       "      <th>1997-09-01</th>\n",
       "      <td>0.117188</td>\n",
       "      <td>0.240625</td>\n",
       "      <td>0.115625</td>\n",
       "      <td>0.216927</td>\n",
       "      <td>0.216927</td>\n",
       "      <td>2157240000</td>\n",
       "      <td>0.855234</td>\n",
       "      <td>0.618011</td>\n",
       "    </tr>\n",
       "    <tr>\n",
       "      <th>1997-10-01</th>\n",
       "      <td>0.221875</td>\n",
       "      <td>0.275000</td>\n",
       "      <td>0.176042</td>\n",
       "      <td>0.254167</td>\n",
       "      <td>0.254167</td>\n",
       "      <td>2103744000</td>\n",
       "      <td>0.171671</td>\n",
       "      <td>0.158431</td>\n",
       "    </tr>\n",
       "  </tbody>\n",
       "</table>\n",
       "</div>"
      ],
      "text/plain": [
       "                Open      High       Low     Close  Adj Close      Volume  \\\n",
       "Date                                                                        \n",
       "1997-06-01  0.075521  0.085417  0.068750  0.077083   0.077083  1063272000   \n",
       "1997-07-01  0.077083  0.128646  0.075521  0.119792   0.119792  2172288000   \n",
       "1997-08-01  0.117188  0.120833  0.096875  0.116927   0.116927   638136000   \n",
       "1997-09-01  0.117188  0.240625  0.115625  0.216927   0.216927  2157240000   \n",
       "1997-10-01  0.221875  0.275000  0.176042  0.254167   0.254167  2103744000   \n",
       "\n",
       "              Return  Return_log  \n",
       "Date                              \n",
       "1997-06-01       NaN         NaN  \n",
       "1997-07-01  0.554065    0.440874  \n",
       "1997-08-01 -0.023916   -0.024207  \n",
       "1997-09-01  0.855234    0.618011  \n",
       "1997-10-01  0.171671    0.158431  "
      ]
     },
     "execution_count": 20,
     "metadata": {},
     "output_type": "execute_result"
    }
   ],
   "source": [
    "#printing the first 5 rows of the updated dataframe\n",
    "Monthly.head()"
   ]
  },
  {
   "cell_type": "code",
   "execution_count": 21,
   "metadata": {},
   "outputs": [],
   "source": [
    "# Calling out into a variable the column that contains the log of returns\n",
    "Daily_Log_of_returns = Daily['Return_log']"
   ]
  },
  {
   "cell_type": "code",
   "execution_count": 22,
   "metadata": {},
   "outputs": [],
   "source": [
    "# Calling out into a variable the column that contains the log of returns\n",
    "Daily_5yr_Log_of_returns = Daily_5yr['Return_log']"
   ]
  },
  {
   "cell_type": "code",
   "execution_count": 23,
   "metadata": {},
   "outputs": [],
   "source": [
    "# Calling out into a variable the column that contains the log of returns\n",
    "Weekly_Log_of_returns = Weekly['Return_log']"
   ]
  },
  {
   "cell_type": "code",
   "execution_count": 24,
   "metadata": {},
   "outputs": [],
   "source": [
    "# Calling out into a variable the column that contains the log of returns\n",
    "Monthly_Log_of_returns = Monthly['Return_log']"
   ]
  },
  {
   "cell_type": "code",
   "execution_count": 25,
   "metadata": {
    "scrolled": false
   },
   "outputs": [
    {
     "data": {
      "text/plain": [
       "(array([ 1.,  0.,  0.,  0.,  0.,  0.,  0.,  3.,  1.,  1.,  4.,  2.,  9.,\n",
       "        18., 32., 39., 62., 34., 18., 11.,  9.,  5.,  1.,  0.,  0.,  0.,\n",
       "         0.,  0.,  0.,  1.]),\n",
       " array([-0.15139791, -0.14211969, -0.13284146, -0.12356323, -0.114285  ,\n",
       "        -0.10500678, -0.09572855, -0.08645032, -0.07717209, -0.06789387,\n",
       "        -0.05861564, -0.04933741, -0.04005918, -0.03078095, -0.02150273,\n",
       "        -0.0122245 , -0.00294627,  0.00633196,  0.01561018,  0.02488841,\n",
       "         0.03416664,  0.04344487,  0.05272309,  0.06200132,  0.07127955,\n",
       "         0.08055778,  0.089836  ,  0.09911423,  0.10839246,  0.11767069,\n",
       "         0.12694891]),\n",
       " <BarContainer object of 30 artists>)"
      ]
     },
     "execution_count": 25,
     "metadata": {},
     "output_type": "execute_result"
    },
    {
     "data": {
      "image/png": "[encoded data removed]",
      "text/plain": [
       "<Figure size 432x288 with 1 Axes>"
      ]
     },
     "metadata": {
      "needs_background": "light"
     },
     "output_type": "display_data"
    }
   ],
   "source": [
    "# plotting of the log of the daily returns (the amount gained or lost in a day) as a histogram\n",
    "plt.hist(Daily_Log_of_returns, bins=30)"
   ]
  },
  {
   "cell_type": "code",
   "execution_count": 26,
   "metadata": {},
   "outputs": [
    {
     "data": {
      "text/plain": [
       "(array([  1.,   0.,   0.,   0.,   0.,   0.,   0.,   6.,   1.,   6.,  11.,\n",
       "         15.,  32.,  68., 114., 228., 326., 251.,  94.,  44.,  31.,  15.,\n",
       "          6.,   5.,   1.,   0.,   1.,   0.,   0.,   2.]),\n",
       " array([-0.15139791, -0.14211969, -0.13284146, -0.12356323, -0.114285  ,\n",
       "        -0.10500678, -0.09572855, -0.08645032, -0.07717209, -0.06789387,\n",
       "        -0.05861564, -0.04933741, -0.04005918, -0.03078095, -0.02150273,\n",
       "        -0.0122245 , -0.00294627,  0.00633196,  0.01561018,  0.02488841,\n",
       "         0.03416664,  0.04344487,  0.05272309,  0.06200132,  0.07127955,\n",
       "         0.08055778,  0.089836  ,  0.09911423,  0.10839246,  0.11767069,\n",
       "         0.12694891]),\n",
       " <BarContainer object of 30 artists>)"
      ]
     },
     "execution_count": 26,
     "metadata": {},
     "output_type": "execute_result"
    },
    {
     "data": {
      "image/png": "[encoded data removed]",
      "text/plain": [
       "<Figure size 432x288 with 1 Axes>"
      ]
     },
     "metadata": {
      "needs_background": "light"
     },
     "output_type": "display_data"
    }
   ],
   "source": [
    "# plotting of the log of the daily returns (the amount gained or lost in a day) as a histogram\n",
    "plt.hist(Daily_5yr_Log_of_returns, bins=30)"
   ]
  },
  {
   "cell_type": "code",
   "execution_count": 27,
   "metadata": {},
   "outputs": [
    {
     "data": {
      "text/plain": [
       "(array([  2.,   3.,   2.,   2.,   2.,   7.,   6.,  11.,  21.,  44.,  36.,\n",
       "         90.,  98., 107.,  95.,  85.,  55.,  47.,  27.,  11.,   8.,   8.,\n",
       "          8.,   1.,   2.,   2.,   2.,   0.,   0.,   1.]),\n",
       " array([-0.17488658, -0.16180406, -0.14872155, -0.13563903, -0.12255651,\n",
       "        -0.109474  , -0.09639148, -0.08330896, -0.07022645, -0.05714393,\n",
       "        -0.04406141, -0.0309789 , -0.01789638, -0.00481386,  0.00826865,\n",
       "         0.02135117,  0.03443369,  0.0475162 ,  0.06059872,  0.07368124,\n",
       "         0.08676375,  0.09984627,  0.11292878,  0.1260113 ,  0.13909382,\n",
       "         0.15217633,  0.16525885,  0.17834137,  0.19142388,  0.2045064 ,\n",
       "         0.21758892]),\n",
       " <BarContainer object of 30 artists>)"
      ]
     },
     "execution_count": 27,
     "metadata": {},
     "output_type": "execute_result"
    },
    {
     "data": {
      "image/png": "[encoded data removed]",
      "text/plain": [
       "<Figure size 432x288 with 1 Axes>"
      ]
     },
     "metadata": {
      "needs_background": "light"
     },
     "output_type": "display_data"
    }
   ],
   "source": [
    "# plotting of the log of the daily returns (the amount gained or lost in a day) as a histogram\n",
    "plt.hist(Weekly_Log_of_returns, bins=30)"
   ]
  },
  {
   "cell_type": "code",
   "execution_count": 28,
   "metadata": {},
   "outputs": [
    {
     "data": {
      "text/plain": [
       "(array([ 1.,  1.,  1.,  3.,  2.,  4.,  3.,  9.,  7., 20., 35., 46., 49.,\n",
       "        48., 34., 12.,  9.,  5.,  4.,  0.,  0.,  4.,  1.,  1.,  0.,  1.,\n",
       "         0.,  0.,  0.,  1.]),\n",
       " array([-0.53026731, -0.48535651, -0.44044571, -0.39553491, -0.35062412,\n",
       "        -0.30571332, -0.26080252, -0.21589172, -0.17098093, -0.12607013,\n",
       "        -0.08115933, -0.03624854,  0.00866226,  0.05357306,  0.09848386,\n",
       "         0.14339465,  0.18830545,  0.23321625,  0.27812705,  0.32303784,\n",
       "         0.36794864,  0.41285944,  0.45777024,  0.50268103,  0.54759183,\n",
       "         0.59250263,  0.63741342,  0.68232422,  0.72723502,  0.77214582,\n",
       "         0.81705661]),\n",
       " <BarContainer object of 30 artists>)"
      ]
     },
     "execution_count": 28,
     "metadata": {},
     "output_type": "execute_result"
    },
    {
     "data": {
      "image/png": "[encoded data removed]",
      "text/plain": [
       "<Figure size 432x288 with 1 Axes>"
      ]
     },
     "metadata": {
      "needs_background": "light"
     },
     "output_type": "display_data"
    }
   ],
   "source": [
    "# plotting of the log of the daily returns (the amount gained or lost in a day) as a histogram\n",
    "plt.hist(Monthly_Log_of_returns, bins=30)"
   ]
  },
  {
   "cell_type": "code",
   "execution_count": 29,
   "metadata": {
    "scrolled": true
   },
   "outputs": [
    {
     "data": {
      "text/plain": [
       "<AxesSubplot:xlabel='Date'>"
      ]
     },
     "execution_count": 29,
     "metadata": {},
     "output_type": "execute_result"
    },
    {
     "data": {
      "image/png": "[encoded data removed]",
      "text/plain": [
       "<Figure size 432x288 with 1 Axes>"
      ]
     },
     "metadata": {
      "needs_background": "light"
     },
     "output_type": "display_data"
    }
   ],
   "source": [
    "# plotting time series of the close of the data\n",
    "Daily.Close.plot()"
   ]
  },
  {
   "cell_type": "code",
   "execution_count": 30,
   "metadata": {
    "scrolled": true
   },
   "outputs": [
    {
     "data": {
      "text/plain": [
       "<AxesSubplot:xlabel='Date'>"
      ]
     },
     "execution_count": 30,
     "metadata": {},
     "output_type": "execute_result"
    },
    {
     "data": {
      "image/png": "[encoded data removed]",
      "text/plain": [
       "<Figure size 432x288 with 1 Axes>"
      ]
     },
     "metadata": {
      "needs_background": "light"
     },
     "output_type": "display_data"
    }
   ],
   "source": [
    "# plotting time series of the close of the data\n",
    "Daily_5yr.Close.plot()"
   ]
  },
  {
   "cell_type": "code",
   "execution_count": 31,
   "metadata": {
    "scrolled": true
   },
   "outputs": [
    {
     "data": {
      "text/plain": [
       "<AxesSubplot:xlabel='Date'>"
      ]
     },
     "execution_count": 31,
     "metadata": {},
     "output_type": "execute_result"
    },
    {
     "data": {
      "image/png": "[encoded data removed]",
      "text/plain": [
       "<Figure size 432x288 with 1 Axes>"
      ]
     },
     "metadata": {
      "needs_background": "light"
     },
     "output_type": "display_data"
    }
   ],
   "source": [
    "# plotting time series of the close of the data\n",
    "Weekly.Close.plot()"
   ]
  },
  {
   "cell_type": "code",
   "execution_count": 32,
   "metadata": {},
   "outputs": [
    {
     "data": {
      "text/plain": [
       "<AxesSubplot:xlabel='Date'>"
      ]
     },
     "execution_count": 32,
     "metadata": {},
     "output_type": "execute_result"
    },
    {
     "data": {
      "image/png": "[encoded data removed]",
      "text/plain": [
       "<Figure size 432x288 with 1 Axes>"
      ]
     },
     "metadata": {
      "needs_background": "light"
     },
     "output_type": "display_data"
    }
   ],
   "source": [
    "# plotting time series of the close of the data\n",
    "Monthly.Close.plot()"
   ]
  },
  {
   "cell_type": "code",
   "execution_count": 33,
   "metadata": {},
   "outputs": [
    {
     "data": {
      "text/html": [
       "<div>\n",
       "<style scoped>\n",
       "    .dataframe tbody tr th:only-of-type {\n",
       "        vertical-align: middle;\n",
       "    }\n",
       "\n",
       "    .dataframe tbody tr th {\n",
       "        vertical-align: top;\n",
       "    }\n",
       "\n",
       "    .dataframe thead th {\n",
       "        text-align: right;\n",
       "    }\n",
       "</style>\n",
       "<table border=\"1\" class=\"dataframe\">\n",
       "  <thead>\n",
       "    <tr style=\"text-align: right;\">\n",
       "      <th></th>\n",
       "      <th>Date</th>\n",
       "      <th>Open</th>\n",
       "      <th>High</th>\n",
       "      <th>Low</th>\n",
       "      <th>Close</th>\n",
       "      <th>Adj Close</th>\n",
       "      <th>Volume</th>\n",
       "    </tr>\n",
       "  </thead>\n",
       "  <tbody>\n",
       "    <tr>\n",
       "      <th>0</th>\n",
       "      <td>2017-06-21</td>\n",
       "      <td>105.889999</td>\n",
       "      <td>106.900002</td>\n",
       "      <td>103.919998</td>\n",
       "      <td>104.489998</td>\n",
       "      <td>83.701515</td>\n",
       "      <td>6989400</td>\n",
       "    </tr>\n",
       "    <tr>\n",
       "      <th>1</th>\n",
       "      <td>2017-06-22</td>\n",
       "      <td>104.480003</td>\n",
       "      <td>105.139999</td>\n",
       "      <td>104.040001</td>\n",
       "      <td>104.449997</td>\n",
       "      <td>83.669456</td>\n",
       "      <td>4197400</td>\n",
       "    </tr>\n",
       "    <tr>\n",
       "      <th>2</th>\n",
       "      <td>2017-06-23</td>\n",
       "      <td>104.250000</td>\n",
       "      <td>105.419998</td>\n",
       "      <td>104.239998</td>\n",
       "      <td>105.000000</td>\n",
       "      <td>84.110039</td>\n",
       "      <td>5773300</td>\n",
       "    </tr>\n",
       "    <tr>\n",
       "      <th>3</th>\n",
       "      <td>2017-06-26</td>\n",
       "      <td>105.029999</td>\n",
       "      <td>105.190002</td>\n",
       "      <td>104.029999</td>\n",
       "      <td>104.139999</td>\n",
       "      <td>83.421135</td>\n",
       "      <td>3602500</td>\n",
       "    </tr>\n",
       "    <tr>\n",
       "      <th>4</th>\n",
       "      <td>2017-06-27</td>\n",
       "      <td>104.730003</td>\n",
       "      <td>104.889999</td>\n",
       "      <td>104.029999</td>\n",
       "      <td>104.070000</td>\n",
       "      <td>83.365067</td>\n",
       "      <td>4170300</td>\n",
       "    </tr>\n",
       "  </tbody>\n",
       "</table>\n",
       "</div>"
      ],
      "text/plain": [
       "         Date        Open        High         Low       Close  Adj Close  \\\n",
       "0  2017-06-21  105.889999  106.900002  103.919998  104.489998  83.701515   \n",
       "1  2017-06-22  104.480003  105.139999  104.040001  104.449997  83.669456   \n",
       "2  2017-06-23  104.250000  105.419998  104.239998  105.000000  84.110039   \n",
       "3  2017-06-26  105.029999  105.190002  104.029999  104.139999  83.421135   \n",
       "4  2017-06-27  104.730003  104.889999  104.029999  104.070000  83.365067   \n",
       "\n",
       "    Volume  \n",
       "0  6989400  \n",
       "1  4197400  \n",
       "2  5773300  \n",
       "3  3602500  \n",
       "4  4170300  "
      ]
     },
     "execution_count": 33,
     "metadata": {},
     "output_type": "execute_result"
    }
   ],
   "source": [
    "# Reading the downloaded csv of Chevron into a dataframe and printing the first 5 rows\n",
    "Chevron = pd.read_csv(\"CVX.csv\")\n",
    "Chevron.head()"
   ]
  },
  {
   "cell_type": "code",
   "execution_count": 34,
   "metadata": {},
   "outputs": [
    {
     "data": {
      "text/html": [
       "<div>\n",
       "<style scoped>\n",
       "    .dataframe tbody tr th:only-of-type {\n",
       "        vertical-align: middle;\n",
       "    }\n",
       "\n",
       "    .dataframe tbody tr th {\n",
       "        vertical-align: top;\n",
       "    }\n",
       "\n",
       "    .dataframe thead th {\n",
       "        text-align: right;\n",
       "    }\n",
       "</style>\n",
       "<table border=\"1\" class=\"dataframe\">\n",
       "  <thead>\n",
       "    <tr style=\"text-align: right;\">\n",
       "      <th></th>\n",
       "      <th>Date</th>\n",
       "      <th>Open</th>\n",
       "      <th>High</th>\n",
       "      <th>Low</th>\n",
       "      <th>Close</th>\n",
       "      <th>Adj Close</th>\n",
       "      <th>Volume</th>\n",
       "    </tr>\n",
       "  </thead>\n",
       "  <tbody>\n",
       "    <tr>\n",
       "      <th>0</th>\n",
       "      <td>2017-06-21</td>\n",
       "      <td>199.580002</td>\n",
       "      <td>199.710007</td>\n",
       "      <td>197.559998</td>\n",
       "      <td>199.169998</td>\n",
       "      <td>187.673325</td>\n",
       "      <td>3151100</td>\n",
       "    </tr>\n",
       "    <tr>\n",
       "      <th>1</th>\n",
       "      <td>2017-06-22</td>\n",
       "      <td>199.250000</td>\n",
       "      <td>200.410004</td>\n",
       "      <td>199.179993</td>\n",
       "      <td>199.440002</td>\n",
       "      <td>187.927765</td>\n",
       "      <td>3339300</td>\n",
       "    </tr>\n",
       "    <tr>\n",
       "      <th>2</th>\n",
       "      <td>2017-06-23</td>\n",
       "      <td>199.259995</td>\n",
       "      <td>202.350006</td>\n",
       "      <td>198.679993</td>\n",
       "      <td>202.229996</td>\n",
       "      <td>190.556686</td>\n",
       "      <td>4310100</td>\n",
       "    </tr>\n",
       "    <tr>\n",
       "      <th>3</th>\n",
       "      <td>2017-06-26</td>\n",
       "      <td>202.770004</td>\n",
       "      <td>204.389999</td>\n",
       "      <td>199.940002</td>\n",
       "      <td>199.979996</td>\n",
       "      <td>188.436569</td>\n",
       "      <td>3077600</td>\n",
       "    </tr>\n",
       "    <tr>\n",
       "      <th>4</th>\n",
       "      <td>2017-06-27</td>\n",
       "      <td>199.800003</td>\n",
       "      <td>200.919998</td>\n",
       "      <td>198.889999</td>\n",
       "      <td>198.889999</td>\n",
       "      <td>187.409500</td>\n",
       "      <td>2296900</td>\n",
       "    </tr>\n",
       "  </tbody>\n",
       "</table>\n",
       "</div>"
      ],
      "text/plain": [
       "         Date        Open        High         Low       Close   Adj Close  \\\n",
       "0  2017-06-21  199.580002  199.710007  197.559998  199.169998  187.673325   \n",
       "1  2017-06-22  199.250000  200.410004  199.179993  199.440002  187.927765   \n",
       "2  2017-06-23  199.259995  202.350006  198.679993  202.229996  190.556686   \n",
       "3  2017-06-26  202.770004  204.389999  199.940002  199.979996  188.436569   \n",
       "4  2017-06-27  199.800003  200.919998  198.889999  198.889999  187.409500   \n",
       "\n",
       "    Volume  \n",
       "0  3151100  \n",
       "1  3339300  \n",
       "2  4310100  \n",
       "3  3077600  \n",
       "4  2296900  "
      ]
     },
     "execution_count": 34,
     "metadata": {},
     "output_type": "execute_result"
    }
   ],
   "source": [
    "# Reading the downloaded csv of Boeing into a dataframe and printing the first 5 rows\n",
    "Boeing = pd.read_csv(\"BA.csv\")\n",
    "Boeing.head()"
   ]
  },
  {
   "cell_type": "code",
   "execution_count": 35,
   "metadata": {},
   "outputs": [
    {
     "data": {
      "text/html": [
       "<div>\n",
       "<style scoped>\n",
       "    .dataframe tbody tr th:only-of-type {\n",
       "        vertical-align: middle;\n",
       "    }\n",
       "\n",
       "    .dataframe tbody tr th {\n",
       "        vertical-align: top;\n",
       "    }\n",
       "\n",
       "    .dataframe thead th {\n",
       "        text-align: right;\n",
       "    }\n",
       "</style>\n",
       "<table border=\"1\" class=\"dataframe\">\n",
       "  <thead>\n",
       "    <tr style=\"text-align: right;\">\n",
       "      <th></th>\n",
       "      <th>Date</th>\n",
       "      <th>Open</th>\n",
       "      <th>High</th>\n",
       "      <th>Low</th>\n",
       "      <th>Close</th>\n",
       "      <th>Adj Close</th>\n",
       "      <th>Volume</th>\n",
       "    </tr>\n",
       "  </thead>\n",
       "  <tbody>\n",
       "    <tr>\n",
       "      <th>0</th>\n",
       "      <td>2017-06-21</td>\n",
       "      <td>104.389999</td>\n",
       "      <td>105.080002</td>\n",
       "      <td>103.540001</td>\n",
       "      <td>104.800003</td>\n",
       "      <td>100.358604</td>\n",
       "      <td>7765700</td>\n",
       "    </tr>\n",
       "    <tr>\n",
       "      <th>1</th>\n",
       "      <td>2017-06-22</td>\n",
       "      <td>104.709999</td>\n",
       "      <td>104.769997</td>\n",
       "      <td>104.089996</td>\n",
       "      <td>104.220001</td>\n",
       "      <td>99.803185</td>\n",
       "      <td>6156000</td>\n",
       "    </tr>\n",
       "    <tr>\n",
       "      <th>2</th>\n",
       "      <td>2017-06-23</td>\n",
       "      <td>103.830002</td>\n",
       "      <td>104.580002</td>\n",
       "      <td>103.169998</td>\n",
       "      <td>104.360001</td>\n",
       "      <td>99.937248</td>\n",
       "      <td>18147900</td>\n",
       "    </tr>\n",
       "    <tr>\n",
       "      <th>3</th>\n",
       "      <td>2017-06-26</td>\n",
       "      <td>104.599998</td>\n",
       "      <td>105.849998</td>\n",
       "      <td>104.559998</td>\n",
       "      <td>105.570000</td>\n",
       "      <td>101.095970</td>\n",
       "      <td>5867000</td>\n",
       "    </tr>\n",
       "    <tr>\n",
       "      <th>4</th>\n",
       "      <td>2017-06-27</td>\n",
       "      <td>105.330002</td>\n",
       "      <td>106.150002</td>\n",
       "      <td>105.139999</td>\n",
       "      <td>105.410004</td>\n",
       "      <td>100.942757</td>\n",
       "      <td>5694500</td>\n",
       "    </tr>\n",
       "  </tbody>\n",
       "</table>\n",
       "</div>"
      ],
      "text/plain": [
       "         Date        Open        High         Low       Close   Adj Close  \\\n",
       "0  2017-06-21  104.389999  105.080002  103.540001  104.800003  100.358604   \n",
       "1  2017-06-22  104.709999  104.769997  104.089996  104.220001   99.803185   \n",
       "2  2017-06-23  103.830002  104.580002  103.169998  104.360001   99.937248   \n",
       "3  2017-06-26  104.599998  105.849998  104.559998  105.570000  101.095970   \n",
       "4  2017-06-27  105.330002  106.150002  105.139999  105.410004  100.942757   \n",
       "\n",
       "     Volume  \n",
       "0   7765700  \n",
       "1   6156000  \n",
       "2  18147900  \n",
       "3   5867000  \n",
       "4   5694500  "
      ]
     },
     "execution_count": 35,
     "metadata": {},
     "output_type": "execute_result"
    }
   ],
   "source": [
    "# Reading the downloaded csv of Disney into a dataframe and printing the first 5 rows\n",
    "Disney = pd.read_csv(\"DIS.csv\")\n",
    "Disney.head()"
   ]
  },
  {
   "cell_type": "code",
   "execution_count": 36,
   "metadata": {},
   "outputs": [],
   "source": [
    "#calculating the daily returns, and storing it into a new column within original dataframe\n",
    "Chevron['Return'] = Chevron['Close']/Chevron['Close'].shift(1)-1"
   ]
  },
  {
   "cell_type": "code",
   "execution_count": 37,
   "metadata": {},
   "outputs": [],
   "source": [
    "#creating a column in the dataframe called Log returns that contains the daily log return of the Close price.\n",
    "Chevron['Return_log'] = np.log(Chevron['Close']/Chevron['Close'].shift(1))"
   ]
  },
  {
   "cell_type": "code",
   "execution_count": 38,
   "metadata": {},
   "outputs": [],
   "source": [
    "#calculating the daily returns, and storing it into a new column within original dataframe\n",
    "Boeing['Return'] = Boeing['Close']/Boeing['Close'].shift(1)-1"
   ]
  },
  {
   "cell_type": "code",
   "execution_count": 39,
   "metadata": {},
   "outputs": [],
   "source": [
    "#creating a column in the dataframe called Log returns that contains the daily log return of the Close price.\n",
    "Boeing['Return_log'] = np.log(Boeing['Close']/Boeing['Close'].shift(1))"
   ]
  },
  {
   "cell_type": "code",
   "execution_count": 40,
   "metadata": {},
   "outputs": [],
   "source": [
    "#calculating the daily returns, and storing it into a new column within original dataframe\n",
    "Disney['Return'] = Disney['Close']/Disney['Close'].shift(1)-1"
   ]
  },
  {
   "cell_type": "code",
   "execution_count": 41,
   "metadata": {},
   "outputs": [],
   "source": [
    "#creating a column in the dataframe called Log returns that contains the daily log return of the Close price.\n",
    "Disney['Return_log'] = np.log(Disney['Close']/Disney['Close'].shift(1))"
   ]
  },
  {
   "cell_type": "code",
   "execution_count": 42,
   "metadata": {},
   "outputs": [],
   "source": [
    "# Calling out into a variable the column that contains the log of returns\n",
    "Chevron_Log_of_returns = Chevron['Return_log']"
   ]
  },
  {
   "cell_type": "code",
   "execution_count": 43,
   "metadata": {},
   "outputs": [],
   "source": [
    "# Calling out into a variable the column that contains the log of returns\n",
    "Boeing_Log_of_returns = Boeing['Return_log']"
   ]
  },
  {
   "cell_type": "code",
   "execution_count": 44,
   "metadata": {},
   "outputs": [],
   "source": [
    "# Calling out into a variable the column that contains the log of returns\n",
    "Disney_Log_of_returns = Disney['Return_log']"
   ]
  },
  {
   "cell_type": "code",
   "execution_count": 45,
   "metadata": {},
   "outputs": [
    {
     "data": {
      "text/plain": [
       "(array([  1.,   0.,   0.,   0.,   1.,   1.,   0.,   0.,   0.,   1.,   3.,\n",
       "          1.,   3.,  25.,  71., 221., 581., 245.,  75.,  16.,   4.,   2.,\n",
       "          3.,   2.,   0.,   0.,   0.,   0.,   0.,   1.]),\n",
       " array([-0.2500623 , -0.23489677, -0.21973123, -0.2045657 , -0.18940017,\n",
       "        -0.17423463, -0.1590691 , -0.14390356, -0.12873803, -0.11357249,\n",
       "        -0.09840696, -0.08324143, -0.06807589, -0.05291036, -0.03774482,\n",
       "        -0.02257929, -0.00741375,  0.00775178,  0.02291732,  0.03808285,\n",
       "         0.05324838,  0.06841392,  0.08357945,  0.09874499,  0.11391052,\n",
       "         0.12907606,  0.14424159,  0.15940712,  0.17457266,  0.18973819,\n",
       "         0.20490373]),\n",
       " <BarContainer object of 30 artists>)"
      ]
     },
     "execution_count": 45,
     "metadata": {},
     "output_type": "execute_result"
    },
    {
     "data": {
      "image/png": "[encoded data removed]",
      "text/plain": [
       "<Figure size 432x288 with 1 Axes>"
      ]
     },
     "metadata": {
      "needs_background": "light"
     },
     "output_type": "display_data"
    }
   ],
   "source": [
    "# plotting of the log of the daily returns (the amount gained or lost in a day) as a histogram\n",
    "plt.hist(Chevron_Log_of_returns, bins=30)"
   ]
  },
  {
   "cell_type": "code",
   "execution_count": 46,
   "metadata": {},
   "outputs": [
    {
     "data": {
      "text/plain": [
       "(array([  1.,   0.,   0.,   0.,   3.,   1.,   0.,   1.,   1.,   1.,   1.,\n",
       "          4.,  12.,  39.,  73., 208., 446., 279., 118.,  34.,  15.,   4.,\n",
       "          3.,   4.,   5.,   1.,   0.,   1.,   1.,   1.]),\n",
       " array([-0.27244425, -0.25610686, -0.23976947, -0.22343208, -0.20709468,\n",
       "        -0.19075729, -0.1744199 , -0.15808251, -0.14174512, -0.12540773,\n",
       "        -0.10907034, -0.09273295, -0.07639555, -0.06005816, -0.04372077,\n",
       "        -0.02738338, -0.01104599,  0.0052914 ,  0.02162879,  0.03796618,\n",
       "         0.05430357,  0.07064097,  0.08697836,  0.10331575,  0.11965314,\n",
       "         0.13599053,  0.15232792,  0.16866531,  0.1850027 ,  0.2013401 ,\n",
       "         0.21767749]),\n",
       " <BarContainer object of 30 artists>)"
      ]
     },
     "execution_count": 46,
     "metadata": {},
     "output_type": "execute_result"
    },
    {
     "data": {
      "image/png": "[encoded data removed]",
      "text/plain": [
       "<Figure size 432x288 with 1 Axes>"
      ]
     },
     "metadata": {
      "needs_background": "light"
     },
     "output_type": "display_data"
    }
   ],
   "source": [
    "# plotting of the log of the daily returns (the amount gained or lost in a day) as a histogram\n",
    "plt.hist(Boeing_Log_of_returns, bins=30)"
   ]
  },
  {
   "cell_type": "code",
   "execution_count": 47,
   "metadata": {},
   "outputs": [
    {
     "data": {
      "text/plain": [
       "(array([  1.,   0.,   0.,   0.,   2.,   1.,   2.,   2.,   1.,   5.,  14.,\n",
       "         32.,  53., 134., 289., 373., 195.,  84.,  34.,  11.,   9.,   5.,\n",
       "          4.,   0.,   1.,   0.,   0.,   3.,   0.,   2.]),\n",
       " array([-0.13908455, -0.12996045, -0.12083635, -0.11171224, -0.10258814,\n",
       "        -0.09346404, -0.08433994, -0.07521583, -0.06609173, -0.05696763,\n",
       "        -0.04784352, -0.03871942, -0.02959532, -0.02047122, -0.01134711,\n",
       "        -0.00222301,  0.00690109,  0.01602519,  0.0251493 ,  0.0342734 ,\n",
       "         0.0433975 ,  0.05252161,  0.06164571,  0.07076981,  0.07989391,\n",
       "         0.08901802,  0.09814212,  0.10726622,  0.11639032,  0.12551443,\n",
       "         0.13463853]),\n",
       " <BarContainer object of 30 artists>)"
      ]
     },
     "execution_count": 47,
     "metadata": {},
     "output_type": "execute_result"
    },
    {
     "data": {
      "image/png": "[encoded data removed]",
      "text/plain": [
       "<Figure size 432x288 with 1 Axes>"
      ]
     },
     "metadata": {
      "needs_background": "light"
     },
     "output_type": "display_data"
    }
   ],
   "source": [
    "# plotting of the log of the daily returns (the amount gained or lost in a day) as a histogram\n",
    "plt.hist(Disney_Log_of_returns, bins=30)"
   ]
  },
  {
   "cell_type": "code",
   "execution_count": 48,
   "metadata": {},
   "outputs": [],
   "source": [
    "# Importing the necessary libraries for the normality test\n",
    "import scipy\n",
    "from scipy import stats\n",
    "from scipy.stats import lognorm\n",
    "import matplotlib.pyplot as plt"
   ]
  },
  {
   "cell_type": "code",
   "execution_count": 49,
   "metadata": {},
   "outputs": [
    {
     "name": "stdout",
     "output_type": "stream",
     "text": [
      "ShapiroResult(statistic=nan, pvalue=1.0)\n"
     ]
    }
   ],
   "source": [
    "#Shapiro-wilk test for the test of normality on the one year data\n",
    "Shapiro_Test = scipy.stats.shapiro(Daily_Log_of_returns)\n",
    "print(Shapiro_Test)"
   ]
  },
  {
   "cell_type": "code",
   "execution_count": 50,
   "metadata": {},
   "outputs": [
    {
     "name": "stdout",
     "output_type": "stream",
     "text": [
      "ShapiroResult(statistic=nan, pvalue=1.0)\n"
     ]
    }
   ],
   "source": [
    "#Shapiro-wilk test for the test of normality on the five year data\n",
    "Shapiro_Test = scipy.stats.shapiro(Daily_5yr_Log_of_returns)\n",
    "print(Shapiro_Test)"
   ]
  },
  {
   "cell_type": "code",
   "execution_count": 51,
   "metadata": {},
   "outputs": [
    {
     "name": "stdout",
     "output_type": "stream",
     "text": [
      "ShapiroResult(statistic=nan, pvalue=1.0)\n"
     ]
    }
   ],
   "source": [
    "#Shapiro-wilk test for the test of normality on the weeekly timeframe data\n",
    "Shapiro_Test = scipy.stats.shapiro(Weekly_Log_of_returns)\n",
    "print(Shapiro_Test)"
   ]
  },
  {
   "cell_type": "code",
   "execution_count": 52,
   "metadata": {},
   "outputs": [
    {
     "name": "stdout",
     "output_type": "stream",
     "text": [
      "ShapiroResult(statistic=nan, pvalue=1.0)\n"
     ]
    }
   ],
   "source": [
    "#Shapiro-wilk test for the test of normality on the monthly timeframe data\n",
    "Shapiro_Test = scipy.stats.shapiro(Monthly_Log_of_returns)\n",
    "print(Shapiro_Test)"
   ]
  },
  {
   "cell_type": "code",
   "execution_count": 53,
   "metadata": {},
   "outputs": [
    {
     "name": "stdout",
     "output_type": "stream",
     "text": [
      "ShapiroResult(statistic=nan, pvalue=1.0)\n"
     ]
    }
   ],
   "source": [
    "#Shapiro-wilk test for the test of normality on the chevron data\n",
    "Shapiro_Test = scipy.stats.shapiro(Chevron_Log_of_returns)\n",
    "print(Shapiro_Test)"
   ]
  },
  {
   "cell_type": "code",
   "execution_count": 54,
   "metadata": {},
   "outputs": [
    {
     "name": "stdout",
     "output_type": "stream",
     "text": [
      "ShapiroResult(statistic=nan, pvalue=1.0)\n"
     ]
    }
   ],
   "source": [
    "#Shapiro-wilk test for the test of normality on the Boeing data\n",
    "Shapiro_Test = scipy.stats.shapiro(Boeing_Log_of_returns)\n",
    "print(Shapiro_Test)"
   ]
  },
  {
   "cell_type": "code",
   "execution_count": 55,
   "metadata": {},
   "outputs": [
    {
     "name": "stdout",
     "output_type": "stream",
     "text": [
      "ShapiroResult(statistic=nan, pvalue=1.0)\n"
     ]
    }
   ],
   "source": [
    "#Shapiro-wilk test for the test of normality on the Disney data\n",
    "Shapiro_Test = scipy.stats.shapiro(Disney_Log_of_returns)\n",
    "print(Shapiro_Test)"
   ]
  },
  {
   "cell_type": "markdown",
   "metadata": {},
   "source": [
    "#### Null hypotheses: If the p-value of the test is greater than α = .05, then the data is assumed to be normally distributed.\n",
    "#### Alternative hypotheses: If the p-value of the test is less than α = .05, then the data is assumed to not be normally distributed."
   ]
  },
  {
   "cell_type": "markdown",
   "metadata": {},
   "source": [
    "***From the output of the test on all the various stocks and different timeframes we can see that the test statistic is not available  but the corresponding p-value is 1.0 (which is very greater than zero).\n",
    "\n",
    "***Since the p-value is greater than 0.05, we accept the null hypothesis of the Shapiro-Wilk test.\n",
    "\n",
    "***This means we have sufficient evidence to say that the stocks irrespective of sector and irrespective of if it is in a downtrend or uptrend and irrespective of the timeframe (whether over a year, five years or twenty years) will always have and follow a normal distribution. As shown by the log of returns of Amazon over a period of one year and five years and over the timeframes of weekly and monthly respectively and also looking at the log of returns of Chevron, Boeing and Disney which are from energy, industrial and communication services sectors respectively, that were affected by Covid lockdown and have negative returns over the last one year, they will always have a normal distribution."
   ]
  },
  {
   "cell_type": "markdown",
   "metadata": {},
   "source": [
    "***With refewrence to the presented drift (up and down) in the time series - surfacing that that Volatility is not constant - I would claim that tha analysed stocks follows an ito process. My claim is also premised on the fact that log-normal distributions can only come from a normally distributed set of random variables and the time series of a stock is primarily a normally distributed set of random movement/prices of a stock.\n",
    "\n",
    "\n",
    "\n",
    "***Pertinent to mention that the log-normal distribution curve can  be used to help better identify the compound return any stock can expect to achieve over a period of time, therefore, the assumption of log normality apply to all stocks the same because log-normal distributions can only come from a normally distributed set of random variables. "
   ]
  },
  {
   "cell_type": "markdown",
   "metadata": {},
   "source": [
    "***In the event of a disruption, The share price of affected sectors badly sells off and has negative expectations, as it happened to Travel sector stocks in  2020 due to pandemic, to Coca-Cola after the negative press for their drink and as happened to house builders stocks in the housing prices induced Global Financial Crises of 2008. In these events, the expectation of returns of this Sectors become negative but that hardly has any effect on the log-normality of the stocks in such sectors"
   ]
  },
  {
   "cell_type": "code",
   "execution_count": null,
   "metadata": {},
   "outputs": [],
   "source": []
  }
 ],
 "metadata": {
  "kernelspec": {
   "display_name": "Python 3 (ipykernel)",
   "language": "python",
   "name": "python3"
  },
  "language_info": {
   "codemirror_mode": {
    "name": "ipython",
    "version": 3
   },
   "file_extension": ".py",
   "mimetype": "text/x-python",
   "name": "python",
   "nbconvert_exporter": "python",
   "pygments_lexer": "ipython3",
   "version": "3.10.4"
  },
  "latex_envs": {
   "LaTeX_envs_menu_present": true,
   "autoclose": false,
   "autocomplete": true,
   "bibliofile": "biblio.bib",
   "cite_by": "apalike",
   "current_citInitial": 1,
   "eqLabelWithNumbers": true,
   "eqNumInitial": 1,
   "hotkeys": {
    "equation": "Ctrl-E",
    "itemize": "Ctrl-I"
   },
   "labels_anchors": false,
   "latex_user_defs": false,
   "report_style_numbering": false,
   "user_envs_cfg": false
  }
 },
 "nbformat": 4,
 "nbformat_minor": 4
}
